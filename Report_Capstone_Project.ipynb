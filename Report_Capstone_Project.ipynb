{
 "cells": [
  {
   "cell_type": "markdown",
   "metadata": {},
   "source": [
    "<h1>Finding the best place to start an Indian Restaurant in Mumbai City"
   ]
  },
  {
   "cell_type": "markdown",
   "metadata": {},
   "source": [
    "## 1. Introduction  and Business Problem"
   ]
  },
  {
   "cell_type": "markdown",
   "metadata": {},
   "source": [
    "Mumbai is a city where people from all over India come to make their dream come true, be it an actor or a businessman. It is home to Bollywood industry and is called the financial hub of India. It is no wonder why so many people are attracted to this magical city. It is also a city which, if you aren't careful and determined and persistent, will eat you alive. "
   ]
  },
  {
   "cell_type": "markdown",
   "metadata": {},
   "source": [
    "The city has one of the highest population density in the world. It is also home to people from all over India. It is diverse and vast. It is a challenge for a businessman who is willing to open an Indian restaurant to find the best possible neighborhood in which the business could thrive owing to its diverse population, cost of opening business, cut-throat competition, etc. I hope the analysis will be of some help to such businessman."
   ]
  },
  {
   "cell_type": "markdown",
   "metadata": {},
   "source": [
    "So, my business problem is \"To find the best place to start an Indian Restaurant in Mumbai City\". The target audience will be businessman willing to start an Indian restaurant. I am planning to consider monthly rent for commercial property and data of venues from folium."
   ]
  },
  {
   "cell_type": "markdown",
   "metadata": {},
   "source": [
    "## 2. Data description"
   ]
  },
  {
   "cell_type": "markdown",
   "metadata": {},
   "source": [
    "I have extracted neighborhood data from this link \"https://en.wikipedia.org/wiki/List_of_neighbourhoods_in_Mumbai \". I made a CSV File that has Area, Latitude, Longitude of Mumbai city neighborhoods. Some of the data of Latitude and Longitude were not accurate, so I have extracted that data from google. The data has a total of 92 neighborhoods."
   ]
  },
  {
   "cell_type": "markdown",
   "metadata": {},
   "source": [
    "For getting monthly rents of commercial property in Mumbai, I used \" https://www.magicbricks.com/ \" and \" https://www.99acres.com/ \". These sites shows commercial properties available and their monthly rents. I only considered those neighborhoods that has more than three shops listed in the sites above. I calculated it for 100 square feet, then averaged the rents of all these shops and then rounded it off. I made a CSV file for this as well. "
   ]
  },
  {
   "cell_type": "markdown",
   "metadata": {},
   "source": [
    "For example, in one neighborhood shop A's rent is Rs. 15000 per 250 sq feet, B's is Rs. 10000 per 200 sq feet, C's is Rs. 20000 300 sq feet. If I calculate rents for 100 sq feet then A's rent will be Rs. 6000. B's will be Rs. 5000, and C's will be Rs. 6666.66. The average of these rents will be Rs. 5888.88. Rounded off amount will be Rs. 6000. "
   ]
  },
  {
   "cell_type": "markdown",
   "metadata": {},
   "source": [
    "## 3. Methodology"
   ]
  },
  {
   "cell_type": "markdown",
   "metadata": {},
   "source": [
    "First we will create a dataframe from the CSV file. It has names of Area, Longitude and Latitude as shown in below image"
   ]
  },
  {
   "cell_type": "markdown",
   "metadata": {},
   "source": [
    "<img src=\"1.png\">"
   ]
  },
  {
   "cell_type": "markdown",
   "metadata": {},
   "source": [
    "Visualizing the neighborhoods using Folium API"
   ]
  },
  {
   "cell_type": "markdown",
   "metadata": {},
   "source": [
    "<img src=\"2.png\">"
   ]
  },
  {
   "cell_type": "markdown",
   "metadata": {},
   "source": [
    "After this, we will be using folium credentials to extract venues information for these neighborhoods.\n",
    "Then I created a dataframe that has 10 most common venues for each neighborhood of Mumbai. It looks like this:"
   ]
  },
  {
   "cell_type": "markdown",
   "metadata": {},
   "source": [
    "<img src=\"3.png\">"
   ]
  },
  {
   "cell_type": "markdown",
   "metadata": {},
   "source": [
    "Now, I used K-means clustering to distribute these neighborhoods according to the top 10 most common venues. Visualization of K-means clustering looks like this:"
   ]
  },
  {
   "cell_type": "markdown",
   "metadata": {},
   "source": [
    "<img src=\"4.png\">"
   ]
  },
  {
   "cell_type": "markdown",
   "metadata": {},
   "source": [
    "After this, I used data of monthly rent for neighborhoods of Mumbai for cluster 0(red in above map) neighborhoods. I merged the rent data with those of cluster 0 neighborhood data and the resulting dataframe is this"
   ]
  },
  {
   "cell_type": "markdown",
   "metadata": {},
   "source": [
    "<img src=\"5.png\">"
   ]
  },
  {
   "cell_type": "markdown",
   "metadata": {},
   "source": [
    "Plotting a bubble map using folium for rents of neighborhood"
   ]
  },
  {
   "cell_type": "markdown",
   "metadata": {},
   "source": [
    "<img src=\"6.png\">"
   ]
  },
  {
   "cell_type": "markdown",
   "metadata": {},
   "source": [
    "## 4. Results"
   ]
  },
  {
   "cell_type": "markdown",
   "metadata": {},
   "source": [
    "From the K-means clustering, I found that cluster 2 is a saturated market for Indian restaurant as for almost all of them have Indian restaurant as their 1st most common venue."
   ]
  },
  {
   "cell_type": "markdown",
   "metadata": {},
   "source": [
    "<img src=\"7.png\">"
   ]
  },
  {
   "cell_type": "markdown",
   "metadata": {},
   "source": [
    "I find cluster 0 neighborhoods have the market that is not yet saturated for opening an Indian restaurant. So, I decided to go for rent visualization for cluster 0 neighborhoods. This visualization reveals that coastal areas of Mumbai have higher rents than inward regions."
   ]
  },
  {
   "cell_type": "markdown",
   "metadata": {},
   "source": [
    "## 5. Discussion"
   ]
  },
  {
   "cell_type": "markdown",
   "metadata": {},
   "source": [
    "To remain in a business, it is vital that you do not overspend more than needed. From our results, it may be recommended for a businessman looking to open an Indian restaurant that she/he should open one in cluster 0 neighborhoods which are in the inwards regions of City."
   ]
  },
  {
   "cell_type": "markdown",
   "metadata": {},
   "source": [
    "## 6. Conclusion"
   ]
  },
  {
   "cell_type": "markdown",
   "metadata": {},
   "source": [
    "As I discussed in the introduction, the purpose was to find the best location to start an Indian restaurant in Mumbai city. It was found that some of the neighborhoods(cluster 2) were heavily saturated for restaurants. "
   ]
  },
  {
   "cell_type": "markdown",
   "metadata": {},
   "source": [
    "Cluster 0 neighborhood seemed an untapped market for Indian restaurants. And rent analysis for these neighborhoods may help find our target audience a location best suited for her/him."
   ]
  },
  {
   "cell_type": "markdown",
   "metadata": {},
   "source": [
    "There is still more scope for further analysis which may include population density for the neighborhood, living standard of people living in the neighborhood, etc. However, such data is very hard to find for each neighborhood. "
   ]
  },
  {
   "cell_type": "code",
   "execution_count": null,
   "metadata": {},
   "outputs": [],
   "source": []
  }
 ],
 "metadata": {
  "kernelspec": {
   "display_name": "Python 3",
   "language": "python",
   "name": "python3"
  },
  "language_info": {
   "codemirror_mode": {
    "name": "ipython",
    "version": 3
   },
   "file_extension": ".py",
   "mimetype": "text/x-python",
   "name": "python",
   "nbconvert_exporter": "python",
   "pygments_lexer": "ipython3",
   "version": "3.7.6"
  }
 },
 "nbformat": 4,
 "nbformat_minor": 4
}
